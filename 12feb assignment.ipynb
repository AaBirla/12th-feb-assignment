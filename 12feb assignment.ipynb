{
 "cells": [
  {
   "cell_type": "markdown",
   "id": "dddcd5ca-08d5-4fcb-9359-e48495b6d505",
   "metadata": {},
   "source": [
    "### Q1. What is an Exception in python? Write the difference between Exception and Syntax errors"
   ]
  },
  {
   "cell_type": "markdown",
   "id": "a1e17f12-6736-4619-bd02-4cacad7a188f",
   "metadata": {},
   "source": [
    "An exception in Python is an error that occurs during the execution of a program. It may be due to an unexpected behavior in the code, such as dividing by zero or trying to access an element in a list with an index that is out of bounds.\n",
    "\n",
    "Exception handling is the process of catching and handling exceptions that occur during the execution of a program. This enables you to write robust and error-free code, as you can handle exceptions in a way that doesn't cause the entire program to crash.\n",
    "\n",
    "On the other hand, a syntax error in Python occurs when the code is written in an incorrect syntax. It occurs when the code does not follow the proper structure and rules of the language. For example, forgetting to include a colon at the end of an if statement or misplacing indentation are common syntax errors.\n",
    "\n",
    "In summary, exceptions are runtime errors that occur during the execution of the code, while syntax errors are compile-time errors that occur due to incorrect code structure."
   ]
  },
  {
   "cell_type": "code",
   "execution_count": null,
   "id": "65848ac5-0078-4551-80f7-711740a4d83f",
   "metadata": {},
   "outputs": [],
   "source": []
  },
  {
   "cell_type": "markdown",
   "id": "01a55a1a-9f0a-420c-97b9-3b11018cdea0",
   "metadata": {},
   "source": [
    "### Q2. what happens when an exception is not handled ? Explain with an example"
   ]
  },
  {
   "cell_type": "markdown",
   "id": "68d577d7-f187-412c-a66c-f31eb22d7f4f",
   "metadata": {},
   "source": [
    "When an exception is not handled, the program will stop executing and raise the exception. The details of the exception, including the type of the exception and a traceback of the error, will be printed to the console. This is called an unhandled exception."
   ]
  },
  {
   "cell_type": "code",
   "execution_count": 1,
   "id": "7b712b3a-a4e0-4eb1-9b80-6e9e350c44a6",
   "metadata": {},
   "outputs": [
    {
     "ename": "ZeroDivisionError",
     "evalue": "division by zero",
     "output_type": "error",
     "traceback": [
      "\u001b[0;31m---------------------------------------------------------------------------\u001b[0m",
      "\u001b[0;31mZeroDivisionError\u001b[0m                         Traceback (most recent call last)",
      "Cell \u001b[0;32mIn[1], line 4\u001b[0m\n\u001b[1;32m      1\u001b[0m \u001b[38;5;28;01mdef\u001b[39;00m \u001b[38;5;21mdivide\u001b[39m(a,b):\n\u001b[1;32m      2\u001b[0m     \u001b[38;5;28;01mreturn\u001b[39;00m a\u001b[38;5;241m/\u001b[39mb\n\u001b[0;32m----> 4\u001b[0m \u001b[38;5;28mprint\u001b[39m(\u001b[43mdivide\u001b[49m\u001b[43m(\u001b[49m\u001b[38;5;241;43m10\u001b[39;49m\u001b[43m,\u001b[49m\u001b[38;5;241;43m0\u001b[39;49m\u001b[43m)\u001b[49m)\n",
      "Cell \u001b[0;32mIn[1], line 2\u001b[0m, in \u001b[0;36mdivide\u001b[0;34m(a, b)\u001b[0m\n\u001b[1;32m      1\u001b[0m \u001b[38;5;28;01mdef\u001b[39;00m \u001b[38;5;21mdivide\u001b[39m(a,b):\n\u001b[0;32m----> 2\u001b[0m     \u001b[38;5;28;01mreturn\u001b[39;00m \u001b[43ma\u001b[49m\u001b[38;5;241;43m/\u001b[39;49m\u001b[43mb\u001b[49m\n",
      "\u001b[0;31mZeroDivisionError\u001b[0m: division by zero"
     ]
    }
   ],
   "source": [
    "def divide(a,b):\n",
    "    return a/b\n",
    "\n",
    "print(divide(10,0))"
   ]
  },
  {
   "cell_type": "markdown",
   "id": "bbc1ef80-a38b-4e78-8a0d-a89f1afeb821",
   "metadata": {},
   "source": [
    "As you can see, the first call to the divide function returns the expected result, but the second call raises a ZeroDivisionError, because you are trying to divide by zero."
   ]
  },
  {
   "cell_type": "code",
   "execution_count": null,
   "id": "97613120-97d7-4a5d-87fa-8cdf5cf840c5",
   "metadata": {},
   "outputs": [],
   "source": []
  },
  {
   "cell_type": "markdown",
   "id": "1acfeab3-552e-4c61-891d-fc960cd335b1",
   "metadata": {},
   "source": [
    "### Q3. Which Python statement are used to catch and handle exception? Explain with an example"
   ]
  },
  {
   "cell_type": "markdown",
   "id": "01d0b32a-ae4f-4837-ad22-b4f27de79636",
   "metadata": {},
   "source": [
    "The try and except statements are used to catch and handle exceptions in Python. The try statement allows you to write code that might raise an exception, and the except statement allows you to handle the exception if one is raised."
   ]
  },
  {
   "cell_type": "code",
   "execution_count": 2,
   "id": "48d62605-9bac-4848-a0b3-3176f9bb7380",
   "metadata": {},
   "outputs": [
    {
     "name": "stdout",
     "output_type": "stream",
     "text": [
      "Division by zero\n",
      "44\n"
     ]
    }
   ],
   "source": [
    "try:\n",
    "    val=int(1/0)\n",
    "except ValueError:\n",
    "    print(\"Invalid Literal for int() with base 10: 'foo'\")\n",
    "    \n",
    "except ZeroDivisionError:\n",
    "    print(\"Division by zero\")\n",
    "    \n",
    "print(11+33)   "
   ]
  },
  {
   "cell_type": "code",
   "execution_count": null,
   "id": "65dbc619-3d53-4ecd-b675-1c00d2037e3c",
   "metadata": {},
   "outputs": [],
   "source": []
  },
  {
   "cell_type": "markdown",
   "id": "0e721c39-e705-4b0d-8dc6-06c3eaa6d1ea",
   "metadata": {},
   "source": [
    "### Q4. Explain with an example:"
   ]
  },
  {
   "cell_type": "markdown",
   "id": "14819eba-f5f7-49a1-88bc-5e23f2b8dce1",
   "metadata": {},
   "source": [
    "#### a. try and else b. finally c. raise"
   ]
  },
  {
   "cell_type": "markdown",
   "id": "7d39aea3-aebd-4e2f-9327-41a2458aebb7",
   "metadata": {},
   "source": [
    "### a. try and else:"
   ]
  },
  {
   "cell_type": "markdown",
   "id": "248f43a8-1d5e-403c-87f8-6c1f5814cd27",
   "metadata": {},
   "source": [
    "The else clause in a try statement can be used to specify code that should be executed if no exceptions are raised in the try block."
   ]
  },
  {
   "cell_type": "code",
   "execution_count": 3,
   "id": "759e8c38-f0c6-44ff-a915-83a556e79ae3",
   "metadata": {},
   "outputs": [
    {
     "name": "stdout",
     "output_type": "stream",
     "text": [
      "5.0\n"
     ]
    }
   ],
   "source": [
    "try:\n",
    "    val=10/2\n",
    "    \n",
    "except ZeroDivisionError:\n",
    "    print(\"Division by zero\")\n",
    "    \n",
    "else:\n",
    "    print(val)"
   ]
  },
  {
   "cell_type": "markdown",
   "id": "b3caac89-2be6-4f0b-8f17-727571bc038a",
   "metadata": {},
   "source": [
    "### b. finally:"
   ]
  },
  {
   "cell_type": "markdown",
   "id": "433e8f0d-af85-4f76-8103-eac487692805",
   "metadata": {},
   "source": [
    "The finally clause in a try statement can be used to specify code that should be executed regardless of whether an exception was raised or not."
   ]
  },
  {
   "cell_type": "code",
   "execution_count": 4,
   "id": "d50b8dac-aa02-467d-861b-988eee045533",
   "metadata": {},
   "outputs": [
    {
     "name": "stdout",
     "output_type": "stream",
     "text": [
      "Division by Zero\n",
      "This Final Block will be executed\n"
     ]
    }
   ],
   "source": [
    "try:\n",
    "    val=10/0\n",
    "    \n",
    "except ZeroDivisionError:\n",
    "    print(\"Division by Zero\")\n",
    "    \n",
    "finally:\n",
    "    print(\"This Final Block will be executed\")"
   ]
  },
  {
   "cell_type": "markdown",
   "id": "373c0ebe-7872-484c-8348-2c06b1b23cc3",
   "metadata": {},
   "source": [
    "### c. raise:"
   ]
  },
  {
   "cell_type": "markdown",
   "id": "b11b3bba-43a9-41e1-883d-6e701008bf3b",
   "metadata": {},
   "source": [
    "The raise statement allows you to raise an exception in your code. You can raise a built-in exception or create a custom exception by defining a new exception class."
   ]
  },
  {
   "cell_type": "code",
   "execution_count": 5,
   "id": "baa6e4d8-9512-4426-b974-841630666d20",
   "metadata": {},
   "outputs": [
    {
     "name": "stdout",
     "output_type": "stream",
     "text": [
      "Custom Error\n"
     ]
    }
   ],
   "source": [
    "def raise_except():\n",
    "    raise ValueError(\"Custom Error\")\n",
    "    \n",
    "try :\n",
    "    raise_except()\n",
    "except ValueError as e:\n",
    "    print(e)"
   ]
  },
  {
   "cell_type": "code",
   "execution_count": null,
   "id": "f046a4ed-22e5-40f0-bd6a-82271860593c",
   "metadata": {},
   "outputs": [],
   "source": []
  },
  {
   "cell_type": "markdown",
   "id": "27adc1c9-cb86-47fc-9fe1-6a1c990244c7",
   "metadata": {},
   "source": [
    "### Q5.What are the custom exceptions in python? why do we need the custom exception? Explain with an example"
   ]
  },
  {
   "cell_type": "markdown",
   "id": "783f61a6-7b3e-4734-95f7-2dc04448ab4c",
   "metadata": {},
   "source": [
    "Custom exceptions in Python are user-defined exceptions that can be raised and caught in the same way as built-in exceptions.\n",
    "\n",
    "Custom exceptions allow you to provide more meaningful error messages and handle specific error conditions in a way that makes sense for your application"
   ]
  },
  {
   "cell_type": "code",
   "execution_count": 6,
   "id": "122b6670-26e1-4fa8-9cb4-642a013f8128",
   "metadata": {},
   "outputs": [
    {
     "name": "stdout",
     "output_type": "stream",
     "text": [
      "Input must be non negative\n"
     ]
    }
   ],
   "source": [
    "class NegativeError(Exception):\n",
    "    pass\n",
    "\n",
    "def square_root(val):\n",
    "    if val<0:\n",
    "        raise NegativeError(\"Input must be non negative\")\n",
    "        \n",
    "try:\n",
    "    result=square_root(-1)\n",
    "except NegativeError as e:\n",
    "    print(e)"
   ]
  },
  {
   "cell_type": "code",
   "execution_count": null,
   "id": "1ae38267-5762-47db-8d39-2217df91bd96",
   "metadata": {},
   "outputs": [],
   "source": []
  },
  {
   "cell_type": "markdown",
   "id": "13772b73-2fdc-45aa-90fd-992e29ae6052",
   "metadata": {},
   "source": [
    "### Q6. Create a custom exception class.Use this class to handle an exception"
   ]
  },
  {
   "cell_type": "code",
   "execution_count": 7,
   "id": "dbbc4726-ba43-4542-86ae-9e7d023c95a3",
   "metadata": {},
   "outputs": [
    {
     "name": "stdout",
     "output_type": "stream",
     "text": [
      "error Age must be positive number\n"
     ]
    }
   ],
   "source": [
    "class Invalid_age(Exception):\n",
    "    def __init__(self,mssg):\n",
    "        self.mssg=mssg\n",
    "        \n",
    "def val_age(age):\n",
    "    if age<0:\n",
    "        raise Invalid_age(\"Age must be positive number\")\n",
    "            \n",
    "try:\n",
    "    val_age(-1)\n",
    "    \n",
    "except Invalid_age as e:\n",
    "    print('error',e)"
   ]
  },
  {
   "cell_type": "code",
   "execution_count": null,
   "id": "a5822a8e-885c-4326-83b8-5a157c54f0d9",
   "metadata": {},
   "outputs": [],
   "source": []
  }
 ],
 "metadata": {
  "kernelspec": {
   "display_name": "Python 3 (ipykernel)",
   "language": "python",
   "name": "python3"
  },
  "language_info": {
   "codemirror_mode": {
    "name": "ipython",
    "version": 3
   },
   "file_extension": ".py",
   "mimetype": "text/x-python",
   "name": "python",
   "nbconvert_exporter": "python",
   "pygments_lexer": "ipython3",
   "version": "3.10.8"
  }
 },
 "nbformat": 4,
 "nbformat_minor": 5
}
